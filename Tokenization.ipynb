{
  "nbformat": 4,
  "nbformat_minor": 0,
  "metadata": {
    "colab": {
      "provenance": []
    },
    "kernelspec": {
      "name": "python3",
      "display_name": "Python 3"
    },
    "language_info": {
      "name": "python"
    }
  },
  "cells": [
    {
      "cell_type": "code",
      "source": [
        "str = \"abcdefghijklmnopqrstuvwxyz0123456789-,;.!?:’’’/\\|_@#$%ˆ&*˜‘+-=<>()[]{}\"\n",
        "charList = list(str)"
      ],
      "metadata": {
        "id": "9v6rouXmsIR_"
      },
      "execution_count": null,
      "outputs": []
    },
    {
      "cell_type": "code",
      "source": [
        "def createDictIdx(str):\n",
        "  # Create an empty dictionary\n",
        "  charIndex = {}\n",
        "  # Iterate over the characters in the string\n",
        "  for idx, char in enumerate(str):\n",
        "    # Add the character and its index to the dictionary\n",
        "    charIndex[char] = idx\n",
        "  return charIndex\n"
      ],
      "metadata": {
        "id": "SLGCMW6Vn-gS"
      },
      "execution_count": null,
      "outputs": []
    },
    {
      "cell_type": "code",
      "source": [
        "def preprocess_chartext(text, charList):\n",
        "\n",
        "  res_list = []\n",
        "  text = text.lower()\n",
        "\n",
        "  for ch in text:\n",
        "    # If the character belongs to char_list, append it to res_list\n",
        "    if ((ch >= \"a\" and ch <= \"z\") or (ch >= \"A\" and ch <= \"Z\") or (ch >= \"0\" and ch <= \"9\")):\n",
        "      res_list.append(ch)\n",
        "    elif (ch in charList):\n",
        "      res_list.append(ch)\n",
        "\n",
        "  return res_list"
      ],
      "metadata": {
        "id": "dr9Jo3liwSea"
      },
      "execution_count": null,
      "outputs": []
    },
    {
      "cell_type": "code",
      "execution_count": null,
      "metadata": {
        "id": "nWHmc3CNBsuJ"
      },
      "outputs": [],
      "source": [
        "# Word Tokenization\n",
        "# This function preprocesses a word by:\n",
        "# - Removing punctuation\n",
        "# - Lowercasing the word\n",
        "# - Stripping leading and trailing whitespace\n",
        "# - Remove common words\n",
        "\n",
        "def preprocess_text(word: str, charList) -> str:\n",
        "  \n",
        "  # Initialize the preprocessed word as an empty string\n",
        "  processed_word = \"\"\n",
        "\n",
        "  # Loop through each character in the word\n",
        "  for ch in word:\n",
        "    # If the character is a letter or a digit, append it to the preprocessed word\n",
        "    if ((ch >= \"a\" and ch <= \"z\") or (ch >= \"A\" and ch <= \"Z\") or (ch >= \"0\" and ch <= \"9\")):\n",
        "      processed_word += ch\n",
        "    elif (ch in charList):\n",
        "      processed_word += ch\n",
        "\n",
        "  # Lowercase the preprocessed word\n",
        "  processed_word = processed_word.lower()\n",
        "\n",
        "  # Strip leading and trailing whitespace from the preprocessed word\n",
        "  while len(processed_word) > 0 and processed_word[0] == \" \":\n",
        "    processed_word = processed_word[1:]\n",
        "  while len(processed_word) > 0 and processed_word[-1] == \" \":\n",
        "    processed_word = processed_word[:-1]\n",
        "\n",
        "  # Remove common words\n",
        "    common_words = [\"the\", \"and\", \"of\", \"to\", \"in\", \"for\"]\n",
        "    if preprocessed_word in common_words:\n",
        "        preprocessed_word = \"\"\n",
        "\n",
        "  return processed_word\n",
        "\n"
      ]
    },
    {
      "cell_type": "code",
      "source": [
        "print(preprocess_chartext(\"Hello dasijoida33743878*!#%^&#($&+6-230dak fsadsao okdasok odsap\", charList))"
      ],
      "metadata": {
        "id": "5BHQhzR_shyQ",
        "colab": {
          "base_uri": "https://localhost:8080/"
        },
        "outputId": "8812e776-4da6-4002-c839-1255b0f4fe0c"
      },
      "execution_count": null,
      "outputs": [
        {
          "output_type": "stream",
          "name": "stdout",
          "text": [
            "['h', 'e', 'l', 'l', 'o', 'd', 'a', 's', 'i', 'j', 'o', 'i', 'd', 'a', '3', '3', '7', '4', '3', '8', '7', '8', '*', '!', '#', '%', '&', '#', '(', '$', '&', '+', '6', '-', '2', '3', '0', 'd', 'a', 'k', 'f', 's', 'a', 'd', 's', 'a', 'o', 'o', 'k', 'd', 'a', 's', 'o', 'k', 'o', 'd', 's', 'a', 'p']\n"
          ]
        }
      ]
    }
  ]
}